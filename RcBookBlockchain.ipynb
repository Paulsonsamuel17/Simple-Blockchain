{
  "nbformat": 4,
  "nbformat_minor": 0,
  "metadata": {
    "colab": {
      "name": "RcBookBlockchain.ipynb",
      "provenance": []
    },
    "kernelspec": {
      "name": "python3",
      "display_name": "Python 3"
    },
    "language_info": {
      "name": "python"
    }
  },
  "cells": [
    {
      "cell_type": "code",
      "metadata": {
        "colab": {
          "base_uri": "https://localhost:8080/"
        },
        "id": "5B7U8MIkm0H5",
        "outputId": "ca839b22-8516-4c41-d8cb-b0ec696ffd60"
      },
      "source": [
        "#create dictionary rc book database\n",
        "rc={\n",
        "    'rcId':\"01\",\n",
        "    'rcRegNo':\"DFUYC20210378\",\n",
        "    'rcOwnwerName':\"SAM\",\n",
        "    'rcOwnerGender':\"Male\",\n",
        "    'rcAddress':\"Chennai\",\n",
        "    'rcPhoneNumber':\"6581764376\",\n",
        "    'rcRegnDate':\"04/09/2021\",\n",
        "    'rcRegnValiadate':\"04/09/2039\",\n",
        "    'rcVehicleDetails':{\n",
        "        'vManufacturar':\"Mumbai\",\n",
        "        'vEngineNo':\"3856461\",\n",
        "        'vManufacturingDate':\"09/2021\",\n",
        "        'vBodyType':\"passenger\",\n",
        "        'vModelNo':\"KFKES456\",\n",
        "        'vChassiseNo':\"456987\",\n",
        "        'vColor':\"White\",\n",
        "        'vFuel':\"Petrol\"\n",
        "    }\n",
        "    \n",
        "}\n",
        "print(rc)"
      ],
      "execution_count": 16,
      "outputs": [
        {
          "output_type": "stream",
          "name": "stdout",
          "text": [
            "{'rcId': '01', 'rcRegNo': 'DFUYC20210378', 'rcOwnwerName': 'SAM', 'rcOwnerGender': 'Male', 'rcAddress': 'Chennai', 'rcPhoneNumber': '6581764376', 'rcRegnDate': '04/09/2021', 'rcRegnValiadate': '04/09/2039', 'rcVehicleDetails': {'vManufacturar': 'Mumbai', 'vEngineNo': '3856461', 'vManufacturingDate': '09/2021', 'vBodyType': 'passenger', 'vModelNo': 'KFKES456', 'vChassiseNo': '456987', 'vColor': 'White', 'vFuel': 'Petrol'}}\n"
          ]
        }
      ]
    },
    {
      "cell_type": "code",
      "metadata": {
        "id": "nwZcAID2zcGa"
      },
      "source": [
        "# create Blockchain\n",
        "import hashlib\n",
        "class ncBlock:\n",
        "  def __init__(self,preBlockHash,tranList):\n",
        "    self.preBlockHash=preBlockHash\n",
        "    self.tranList=tranList\n",
        "    self.blockData = \"-\".join(tranList) + \"-\" + preBlockHash\n",
        "    self.blockHash = hashlib.sha256(self.blockData.encode()).hexdigest()"
      ],
      "execution_count": 18,
      "outputs": []
    },
    {
      "cell_type": "code",
      "metadata": {
        "id": "DEwpM75YQf6c"
      },
      "source": [
        "t1=\"rc book detail\"\n",
        "t2=\"information entered\"\n"
      ],
      "execution_count": 19,
      "outputs": []
    },
    {
      "cell_type": "code",
      "metadata": {
        "id": "hw-Zo8LBOBvB"
      },
      "source": [
        "initialBlock = ncBlock(\"DOCUMENT\", [t1,t2])"
      ],
      "execution_count": 20,
      "outputs": []
    },
    {
      "cell_type": "code",
      "metadata": {
        "colab": {
          "base_uri": "https://localhost:8080/",
          "height": 35
        },
        "id": "74cq1I5RRPh1",
        "outputId": "dba151d1-f3e4-405d-ed61-2eb1abcf82b1"
      },
      "source": [
        "initialBlock.blockData"
      ],
      "execution_count": 21,
      "outputs": [
        {
          "output_type": "execute_result",
          "data": {
            "application/vnd.google.colaboratory.intrinsic+json": {
              "type": "string"
            },
            "text/plain": [
              "'rc book detail-information entered-DOCUMENT'"
            ]
          },
          "metadata": {},
          "execution_count": 21
        }
      ]
    },
    {
      "cell_type": "code",
      "metadata": {
        "colab": {
          "base_uri": "https://localhost:8080/",
          "height": 35
        },
        "id": "d_V1p0P9RUn8",
        "outputId": "6b12994a-192a-4252-e2c5-c06af9f8e84a"
      },
      "source": [
        "initialBlock.blockHash"
      ],
      "execution_count": 22,
      "outputs": [
        {
          "output_type": "execute_result",
          "data": {
            "application/vnd.google.colaboratory.intrinsic+json": {
              "type": "string"
            },
            "text/plain": [
              "'b5401e087cf9da341d0e29436650c35666c4a035963a1bd922b705c804eab03c'"
            ]
          },
          "metadata": {},
          "execution_count": 22
        }
      ]
    },
    {
      "cell_type": "code",
      "metadata": {
        "id": "nC8dVMJIRbuN"
      },
      "source": [
        "secondBlock = ncBlock(initialBlock.blockHash,['ajdhggdh','aswdjhne'])"
      ],
      "execution_count": 23,
      "outputs": []
    },
    {
      "cell_type": "code",
      "metadata": {
        "colab": {
          "base_uri": "https://localhost:8080/",
          "height": 35
        },
        "id": "0PZnZep9RrwR",
        "outputId": "9e7ad372-6398-45be-95c6-bfffb97c1ed4"
      },
      "source": [
        "secondBlock.blockHash"
      ],
      "execution_count": 24,
      "outputs": [
        {
          "output_type": "execute_result",
          "data": {
            "application/vnd.google.colaboratory.intrinsic+json": {
              "type": "string"
            },
            "text/plain": [
              "'dfc38dd66398abd2dd821a22fe9e29c72431978914a5ca43fde641d037d08945'"
            ]
          },
          "metadata": {},
          "execution_count": 24
        }
      ]
    },
    {
      "cell_type": "code",
      "metadata": {
        "id": "fvyZIAtGRv2y"
      },
      "source": [
        "thirdBlock = ncBlock(secondBlock.blockHash,rc)"
      ],
      "execution_count": 25,
      "outputs": []
    },
    {
      "cell_type": "code",
      "metadata": {
        "colab": {
          "base_uri": "https://localhost:8080/",
          "height": 35
        },
        "id": "_ZJmnsADSFvZ",
        "outputId": "2eb15c0a-032b-42c6-d872-9ea5139b1b78"
      },
      "source": [
        "thirdBlock.blockHash"
      ],
      "execution_count": 26,
      "outputs": [
        {
          "output_type": "execute_result",
          "data": {
            "application/vnd.google.colaboratory.intrinsic+json": {
              "type": "string"
            },
            "text/plain": [
              "'51fcf0ff5936649161d455dcf92bd86920d461a60153f590bf0f25862652c767'"
            ]
          },
          "metadata": {},
          "execution_count": 26
        }
      ]
    },
    {
      "cell_type": "code",
      "metadata": {
        "id": "PyoFjfggSKPo"
      },
      "source": [
        "#create timestamp\n",
        "index=[]\n",
        "import datetime\n",
        "import pytz\n",
        "def createBlock(prevHash,data):\n",
        "  b=ncBlock(prevHash,data)\n",
        "  index.append([b.blockHash,datetime.datetime.now(pytz.timezone(\"Asia/Kolkata\"))])\n",
        "  return b.blockHash"
      ],
      "execution_count": 28,
      "outputs": []
    },
    {
      "cell_type": "code",
      "metadata": {
        "colab": {
          "base_uri": "https://localhost:8080/"
        },
        "id": "k8QU9NNCSOVB",
        "outputId": "7b005025-2958-4e95-c372-15dc3899c717"
      },
      "source": [
        "createBlock(\"3a5aa14ffb0fa27518b9573a70bfddb4624e3d50469016750659d166af137b1a\",rc)\n",
        "\n",
        "print(index)"
      ],
      "execution_count": 29,
      "outputs": [
        {
          "output_type": "stream",
          "name": "stdout",
          "text": [
            "[['f15392c330db9ccb959547ea31e11f6a7d471c8fc739781ebbe306d05c09206c', datetime.datetime(2021, 10, 30, 14, 36, 40, 366311, tzinfo=<DstTzInfo 'Asia/Kolkata' IST+5:30:00 STD>)]]\n"
          ]
        }
      ]
    },
    {
      "cell_type": "code",
      "metadata": {
        "id": "J5GhXSeJSlXn"
      },
      "source": [
        ""
      ],
      "execution_count": null,
      "outputs": []
    }
  ]
}